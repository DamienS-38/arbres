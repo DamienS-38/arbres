{
 "cells": [
  {
   "cell_type": "markdown",
   "metadata": {},
   "source": [
    "# 0 Mise en place des fonctions de travail "
   ]
  },
  {
   "cell_type": "code",
   "execution_count": 2,
   "metadata": {},
   "outputs": [],
   "source": [
    "import random\n",
    "\n",
    "def generate_random_array(debug=False, N=21):\n",
    "    \"\"\"Renvoie un tableau contenant toutes les valeurs entières de 0 (inclus)\n",
    "    à N (exclus) rangées dans un ordre aléatoire\n",
    "\n",
    "    Args:\n",
    "        debug (boolean): quand debug est vrai, la fonction renvoie toujours le\n",
    "                         même tableau afin de simplifier le débogage de vos\n",
    "                         algorithmes de tri\n",
    "        N (int): la taille du tableau à renvoyer\n",
    "\n",
    "    Returns:\n",
    "        list[int]: un tableau d'entiers, de taille N, non ordonné\n",
    "    \"\"\"\n",
    "\n",
    "    if debug:\n",
    "        return [3, 9, 7, 1, 6, 2, 8, 4, 5, 0]\n",
    "\n",
    "    array = list(range(0, N))\n",
    "    random.shuffle(array)\n",
    "\n",
    "    return array"
   ]
  },
  {
   "cell_type": "code",
   "execution_count": 3,
   "metadata": {},
   "outputs": [
    {
     "name": "stdout",
     "output_type": "stream",
     "text": [
      "[18, 4, 2, 7, 16, 12, 11, 19, 5, 6, 10, 14, 15, 9, 8, 3, 20, 13, 17, 0, 1]\n",
      "[3, 9, 7, 1, 6, 2, 8, 4, 5, 0]\n",
      "[10, 20, 3, 8, 5, 14, 6, 19, 22, 18, 27, 21, 30, 4, 26, 9, 25, 11, 16, 2, 23, 29, 15, 12, 17, 1, 13, 28, 7, 0, 24]\n"
     ]
    }
   ],
   "source": [
    "# Exemple d'utilisation de la fonction precedente\n",
    "\n",
    "print(generate_random_array()) # Retourne un tableau avec des nombres naturels allant de 0 a 20\n",
    "print(generate_random_array(True)) # Retourne le tableau [3, 9, 7, 1, 6, 2, 8, 4, 5, 0]\n",
    "print(generate_random_array(N=31)) # Des nombres naturels allant de 0 a 30"
   ]
  },
  {
   "cell_type": "code",
   "execution_count": null,
   "metadata": {},
   "outputs": [],
   "source": [
    "# astuce: peut se réaliser en une opération\n",
    "def swap(tab, i, j):\n",
    "    \"\"\"Échange la place des éléments aux indices i et j du tableau\"\"\"\n",
    "    \n",
    "    raise NotImplementedError"
   ]
  },
  {
   "cell_type": "markdown",
   "metadata": {},
   "source": [
    "# 1 Les tris classiques "
   ]
  },
  {
   "attachments": {},
   "cell_type": "markdown",
   "metadata": {},
   "source": [
    "**ATTENTION** Le pseudo-code n'est pas du code. C'est une façon de représenter l'algorithme comme si c'était du code. Il n'y a pas de norme, il n'y a pas de format particulier. Il peut être écrit dans la langue que vous voulez et se rapprocher de la syntaxe du code de votre choix.  \n",
    "Ici, nous sommes sous Python, qui est un code facile à lire et à écrire à condition de faire attention aux indentations. Essayons d'écrire un pseudo code proche d'une syntaxe python sans trop en faire (ce n'est pas du code !!)"
   ]
  },
  {
   "cell_type": "markdown",
   "metadata": {},
   "source": [
    "## 1.1 Tri à bulles"
   ]
  },
  {
   "attachments": {},
   "cell_type": "markdown",
   "metadata": {},
   "source": [
    "**Un pseudocode possible** *(source : Wikipedia, réécrit sous format python)*\n",
    "\n",
    "```\n",
    "procedure tri_à_bulles(Tableau T):\n",
    "   pour i allant de (taille de T)-1 à 1:\n",
    "       pour j allant de 0 à i-1:\n",
    "           si T[j+1] < T[j] alors:\n",
    "               échanger(T, j+1, j)\n",
    "```"
   ]
  },
  {
   "cell_type": "code",
   "execution_count": null,
   "metadata": {},
   "outputs": [],
   "source": [
    "def bubble(A):\n",
    "    \"\"\"Trie le tableau en déplaçant les plus grosses valeurs vers la fin du\n",
    "    tableau, un peu comme des bulles dans l'eau qui remonteraient à la\n",
    "    surface\"\"\"\n",
    "\n",
    "    raise NotImplementedError"
   ]
  },
  {
   "cell_type": "code",
   "execution_count": null,
   "metadata": {},
   "outputs": [],
   "source": [
    "bubble(generate_random_array())"
   ]
  },
  {
   "cell_type": "markdown",
   "metadata": {},
   "source": [
    "## 1.2 Insertion"
   ]
  },
  {
   "attachments": {},
   "cell_type": "markdown",
   "metadata": {},
   "source": [
    "**Un pseudocode possible** *(source : Wikipedia réécrit sous format )*\n",
    "\n",
    "```\n",
    "procédure tri_insertion(tableau T, entier n):\n",
    "\n",
    "  pour i de 1 à n - 1:\n",
    "        # mémoriser T[i] dans x\n",
    "        x = T[i]                            \n",
    "\n",
    "        j = i                               \n",
    "        tant que j > 0 et T[j - 1] > x:\n",
    "                 T[j] = T[j - 1]\n",
    "                 j = j - 1\n",
    "\n",
    "        # placer x dans le \"trou\" laissé par le décalage\n",
    "        T[j] = x \n",
    "```"
   ]
  },
  {
   "cell_type": "code",
   "execution_count": null,
   "metadata": {},
   "outputs": [],
   "source": [
    "def insertion(A):\n",
    "    \"\"\"Trie le tableau en plaçant l'élément courant à la bonne place dans\n",
    "    le sous-tableau déjà trié\"\"\"\n",
    "\n",
    "    raise NotImplementedError\n"
   ]
  },
  {
   "cell_type": "code",
   "execution_count": null,
   "metadata": {},
   "outputs": [],
   "source": [
    "insertion(generate_random_array())"
   ]
  },
  {
   "cell_type": "markdown",
   "metadata": {},
   "source": [
    "## 1.3 Selection"
   ]
  },
  {
   "attachments": {},
   "cell_type": "markdown",
   "metadata": {},
   "source": [
    "**Un pseudocode possible** *(source : Wikipedia, réécrit sous format python)*\n",
    "\n",
    "```\n",
    "procédure tri_selection(tableau t, entier n):\n",
    "  pour i de 0 à n - 2:\n",
    "      min = i       \n",
    "      pour j de i + 1 à n - 1:\n",
    "          si t[j] < t[min]:\n",
    "            min = j\n",
    "      si min ≠ i,\n",
    "          échanger(t, i, min)\n",
    "```"
   ]
  },
  {
   "cell_type": "code",
   "execution_count": null,
   "metadata": {},
   "outputs": [],
   "source": [
    "def selection(A):\n",
    "    \"\"\"Trie le tableau en cherchant le plus petit élément à mettre dans la\n",
    "    première case, puis le second plus petit à mettre dans la seconde case,\n",
    "    etc\"\"\"\n",
    "    \n",
    "    raise NotImplementedError"
   ]
  },
  {
   "cell_type": "code",
   "execution_count": null,
   "metadata": {},
   "outputs": [],
   "source": [
    "selection(generate_random_array())"
   ]
  }
 ],
 "metadata": {
  "kernelspec": {
   "display_name": "Python 3 (ipykernel)",
   "language": "python",
   "name": "python3"
  },
  "language_info": {
   "codemirror_mode": {
    "name": "ipython",
    "version": 3
   },
   "file_extension": ".py",
   "mimetype": "text/x-python",
   "name": "python",
   "nbconvert_exporter": "python",
   "pygments_lexer": "ipython3",
   "version": "3.11.9"
  }
 },
 "nbformat": 4,
 "nbformat_minor": 2
}
